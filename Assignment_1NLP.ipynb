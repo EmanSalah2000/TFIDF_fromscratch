{
  "cells": [
    {
      "cell_type": "markdown",
      "metadata": {
        "id": "view-in-github",
        "colab_type": "text"
      },
      "source": [
        "<a href=\"https://colab.research.google.com/github/EmanSalah2000/TFIDF_fromscratch/blob/main/Assignment_1NLP.ipynb\" target=\"_parent\"><img src=\"https://colab.research.google.com/assets/colab-badge.svg\" alt=\"Open In Colab\"/></a>"
      ]
    },
    {
      "cell_type": "code",
      "execution_count": null,
      "id": "90f4da28",
      "metadata": {
        "id": "90f4da28",
        "outputId": "db8d4b6e-a3e9-4778-e6a1-74a45145d3aa"
      },
      "outputs": [
        {
          "name": "stderr",
          "output_type": "stream",
          "text": [
            "[nltk_data] Downloading package wordnet to\n",
            "[nltk_data]     C:\\Users\\Eman\\AppData\\Roaming\\nltk_data...\n",
            "[nltk_data]   Package wordnet is already up-to-date!\n"
          ]
        }
      ],
      "source": [
        "import numpy as np\n",
        "import re\n",
        "import nltk\n",
        "nltk.download('wordnet')\n",
        "from nltk.stem import WordNetLemmatizer\n",
        "import pandas as pd"
      ]
    },
    {
      "cell_type": "code",
      "execution_count": null,
      "id": "5485a7e9",
      "metadata": {
        "id": "5485a7e9"
      },
      "outputs": [],
      "source": [
        "def preprocessing(doc):\n",
        "       \n",
        "    lemmatizer = WordNetLemmatizer()\n",
        "    doc=re.sub(r\"[-–,.%')(&|!@#$^*?=_+<>\\d]\", '', doc)\n",
        "\n",
        "    words=\"\"\n",
        "    for word in doc.split():\n",
        "        word=lemmatizer.lemmatize(word)\n",
        "        words=words+word+\" \"\n",
        "    doc=words\n",
        "    \n",
        "    doc=doc.lower()\n",
        "    return doc"
      ]
    },
    {
      "cell_type": "code",
      "execution_count": null,
      "id": "af411f61",
      "metadata": {
        "id": "af411f61"
      },
      "outputs": [],
      "source": [
        "def count (document,word):\n",
        "    occurence=0\n",
        "    for w in document.split():\n",
        "#         print(w,word,w==word)\n",
        "        if w==word:\n",
        "            occurence=occurence+1  \n",
        "    return occurence"
      ]
    },
    {
      "cell_type": "code",
      "execution_count": null,
      "id": "8e2b9608",
      "metadata": {
        "id": "8e2b9608"
      },
      "outputs": [],
      "source": [
        "def tfidf_train(doc,doc_1,doc_2):\n",
        "    table=np.zeros([len(unique_words),7])\n",
        "    for i in range(len(unique_words)):\n",
        "        table[i][0]=count(doc_1,unique_words[i])\n",
        "        table[i][1]=count(doc_2,unique_words[i])\n",
        "        table[i][2]=table[i][0]/len(doc_1.split())\n",
        "        table[i][3]=table[i][1]/len(doc_2.split())\n",
        "        ct=0\n",
        "        if table[i][0]>0:\n",
        "            ct+=1\n",
        "        if table[i][1]>0:\n",
        "            ct+=1\n",
        "        table[i][4]=np.log10(2/(ct))\n",
        "        table[i][5]=table[i][2]*table[i][4]\n",
        "        table[i][6]=table[i][3]*table[i][4]\n",
        "    return table\n",
        "\n",
        "\n",
        "\n",
        "def tfidf_test(doc,unique_words,table):\n",
        "    table_test=np.zeros([len(unique_words),3])\n",
        "    for i in range(len(unique_words)):\n",
        "        table_test[i][0]=count(doc,unique_words[i])\n",
        "        table_test[i][1]=table_test[i][0]/len(doc.split())\n",
        "        table_test[i][2]=table[i][4]*table_test[i][1]\n",
        "    return table_test\n",
        "\n",
        "\n"
      ]
    },
    {
      "cell_type": "code",
      "execution_count": null,
      "id": "e4d9628c",
      "metadata": {
        "id": "e4d9628c"
      },
      "outputs": [],
      "source": [
        "doc_1=\"Microsoft Windows , commonly referred to as Windows , is a group of several proprietary graphical operating system families , all of which are developed and marketed by Microsoft. is a family of open-source Unix-like operating systems based on the Linux kernel , an operating system kernel first released on September 17 , 1991 , by Linus Torvalds.Linux is typically packaged in a Linux distribution.is a family of multitasking, multiuser computer operating systems that derive from the original AT&T Unix, whose development started in 1969 at the Bell Labs research center by Ken Thompson, Dennis Ritchie, and others\"\n",
        "doc_2=\"Corona viruses are a group of related RNA viruses that cause diseases in mammals and birds. In humans and birds , they cause respiratory tract infections that can range from mild to lethal. Avian influenza, known informally as avian flu or bird flu, is a variety of influenza caused by viruses adapted to birds. Alzheimer's disease (AD) is a neurodegenerative disease that usually starts slowly and progressively worsens. It is the cause of 60–70% of cases of dementia.\"\n",
        "\n",
        "# doc_1=\"computer is a great device\"\n",
        "# doc_2=\"Ahmed is a great person\"\n",
        "\n",
        "# doc_1=\"windows is an operating system\"\n",
        "# doc_2=\"covid19 is a serious disease\"\n"
      ]
    },
    {
      "cell_type": "code",
      "execution_count": null,
      "id": "8a494e42",
      "metadata": {
        "id": "8a494e42",
        "outputId": "4d3cad61-6d5d-41d9-add7-2019c9077343"
      },
      "outputs": [
        {
          "name": "stdout",
          "output_type": "stream",
          "text": [
            "microsoft windows commonly referred to a windows is a group of several proprietary graphical operating system family all of which are developed and marketed by microsoft is a family of opensource unixlike operating system based on the linux kernel an operating system kernel first released on september by linus torvaldslinux is typically packaged in a linux distributionis a family of multitasking multiuser computer operating system that derive from the original att unix whose development started in at the bell labs research center by ken thompson dennis ritchie and others corona virus are a group of related rna virus that cause disease in mammal and bird in human and bird they cause respiratory tract infection that can range from mild to lethal avian influenza known informally a avian flu or bird flu is a variety of influenza caused by virus adapted to bird alzheimers disease ad is a neurodegenerative disease that usually start slowly and progressively worsens it is the cause of of case of dementia \n"
          ]
        }
      ],
      "source": [
        "doc_1=preprocessing(doc_1)\n",
        "doc_2=preprocessing(doc_2)\n",
        "all_document=doc_1+doc_2\n",
        "\n",
        "print(all_document)\n",
        "unique_words =list(set(all_document.split()))"
      ]
    },
    {
      "cell_type": "code",
      "execution_count": null,
      "id": "d5908932",
      "metadata": {
        "id": "d5908932"
      },
      "outputs": [],
      "source": [
        "tfidf_table=tfidf_train(all_document,doc_1,doc_2)"
      ]
    },
    {
      "cell_type": "code",
      "execution_count": null,
      "id": "a7badefe",
      "metadata": {
        "id": "a7badefe",
        "outputId": "9d87e60e-1784-4232-e344-903d02042761"
      },
      "outputs": [
        {
          "data": {
            "text/html": [
              "<div>\n",
              "<style scoped>\n",
              "    .dataframe tbody tr th:only-of-type {\n",
              "        vertical-align: middle;\n",
              "    }\n",
              "\n",
              "    .dataframe tbody tr th {\n",
              "        vertical-align: top;\n",
              "    }\n",
              "\n",
              "    .dataframe thead th {\n",
              "        text-align: right;\n",
              "    }\n",
              "</style>\n",
              "<table border=\"1\" class=\"dataframe\">\n",
              "  <thead>\n",
              "    <tr style=\"text-align: right;\">\n",
              "      <th></th>\n",
              "      <th>count_doc_1</th>\n",
              "      <th>count_doc_2</th>\n",
              "      <th>TF1</th>\n",
              "      <th>TF2</th>\n",
              "      <th>IDF</th>\n",
              "      <th>TFIDF1</th>\n",
              "      <th>TFIDF2</th>\n",
              "    </tr>\n",
              "  </thead>\n",
              "  <tbody>\n",
              "    <tr>\n",
              "      <th>that</th>\n",
              "      <td>1.0</td>\n",
              "      <td>3.0</td>\n",
              "      <td>0.011236</td>\n",
              "      <td>0.039474</td>\n",
              "      <td>0.00000</td>\n",
              "      <td>0.000000</td>\n",
              "      <td>0.000000</td>\n",
              "    </tr>\n",
              "    <tr>\n",
              "      <th>to</th>\n",
              "      <td>1.0</td>\n",
              "      <td>2.0</td>\n",
              "      <td>0.011236</td>\n",
              "      <td>0.026316</td>\n",
              "      <td>0.00000</td>\n",
              "      <td>0.000000</td>\n",
              "      <td>0.000000</td>\n",
              "    </tr>\n",
              "    <tr>\n",
              "      <th>by</th>\n",
              "      <td>3.0</td>\n",
              "      <td>1.0</td>\n",
              "      <td>0.033708</td>\n",
              "      <td>0.013158</td>\n",
              "      <td>0.00000</td>\n",
              "      <td>0.000000</td>\n",
              "      <td>0.000000</td>\n",
              "    </tr>\n",
              "    <tr>\n",
              "      <th>of</th>\n",
              "      <td>4.0</td>\n",
              "      <td>5.0</td>\n",
              "      <td>0.044944</td>\n",
              "      <td>0.065789</td>\n",
              "      <td>0.00000</td>\n",
              "      <td>0.000000</td>\n",
              "      <td>0.000000</td>\n",
              "    </tr>\n",
              "    <tr>\n",
              "      <th>in</th>\n",
              "      <td>2.0</td>\n",
              "      <td>2.0</td>\n",
              "      <td>0.022472</td>\n",
              "      <td>0.026316</td>\n",
              "      <td>0.00000</td>\n",
              "      <td>0.000000</td>\n",
              "      <td>0.000000</td>\n",
              "    </tr>\n",
              "    <tr>\n",
              "      <th>...</th>\n",
              "      <td>...</td>\n",
              "      <td>...</td>\n",
              "      <td>...</td>\n",
              "      <td>...</td>\n",
              "      <td>...</td>\n",
              "      <td>...</td>\n",
              "      <td>...</td>\n",
              "    </tr>\n",
              "    <tr>\n",
              "      <th>developed</th>\n",
              "      <td>1.0</td>\n",
              "      <td>0.0</td>\n",
              "      <td>0.011236</td>\n",
              "      <td>0.000000</td>\n",
              "      <td>0.30103</td>\n",
              "      <td>0.003382</td>\n",
              "      <td>0.000000</td>\n",
              "    </tr>\n",
              "    <tr>\n",
              "      <th>research</th>\n",
              "      <td>1.0</td>\n",
              "      <td>0.0</td>\n",
              "      <td>0.011236</td>\n",
              "      <td>0.000000</td>\n",
              "      <td>0.30103</td>\n",
              "      <td>0.003382</td>\n",
              "      <td>0.000000</td>\n",
              "    </tr>\n",
              "    <tr>\n",
              "      <th>they</th>\n",
              "      <td>0.0</td>\n",
              "      <td>1.0</td>\n",
              "      <td>0.000000</td>\n",
              "      <td>0.013158</td>\n",
              "      <td>0.30103</td>\n",
              "      <td>0.000000</td>\n",
              "      <td>0.003961</td>\n",
              "    </tr>\n",
              "    <tr>\n",
              "      <th>released</th>\n",
              "      <td>1.0</td>\n",
              "      <td>0.0</td>\n",
              "      <td>0.011236</td>\n",
              "      <td>0.000000</td>\n",
              "      <td>0.30103</td>\n",
              "      <td>0.003382</td>\n",
              "      <td>0.000000</td>\n",
              "    </tr>\n",
              "    <tr>\n",
              "      <th>microsoft</th>\n",
              "      <td>2.0</td>\n",
              "      <td>0.0</td>\n",
              "      <td>0.022472</td>\n",
              "      <td>0.000000</td>\n",
              "      <td>0.30103</td>\n",
              "      <td>0.006765</td>\n",
              "      <td>0.000000</td>\n",
              "    </tr>\n",
              "  </tbody>\n",
              "</table>\n",
              "<p>98 rows × 7 columns</p>\n",
              "</div>"
            ],
            "text/plain": [
              "           count_doc_1  count_doc_2       TF1       TF2      IDF    TFIDF1  \\\n",
              "that               1.0          3.0  0.011236  0.039474  0.00000  0.000000   \n",
              "to                 1.0          2.0  0.011236  0.026316  0.00000  0.000000   \n",
              "by                 3.0          1.0  0.033708  0.013158  0.00000  0.000000   \n",
              "of                 4.0          5.0  0.044944  0.065789  0.00000  0.000000   \n",
              "in                 2.0          2.0  0.022472  0.026316  0.00000  0.000000   \n",
              "...                ...          ...       ...       ...      ...       ...   \n",
              "developed          1.0          0.0  0.011236  0.000000  0.30103  0.003382   \n",
              "research           1.0          0.0  0.011236  0.000000  0.30103  0.003382   \n",
              "they               0.0          1.0  0.000000  0.013158  0.30103  0.000000   \n",
              "released           1.0          0.0  0.011236  0.000000  0.30103  0.003382   \n",
              "microsoft          2.0          0.0  0.022472  0.000000  0.30103  0.006765   \n",
              "\n",
              "             TFIDF2  \n",
              "that       0.000000  \n",
              "to         0.000000  \n",
              "by         0.000000  \n",
              "of         0.000000  \n",
              "in         0.000000  \n",
              "...             ...  \n",
              "developed  0.000000  \n",
              "research   0.000000  \n",
              "they       0.003961  \n",
              "released   0.000000  \n",
              "microsoft  0.000000  \n",
              "\n",
              "[98 rows x 7 columns]"
            ]
          },
          "execution_count": 16,
          "metadata": {},
          "output_type": "execute_result"
        }
      ],
      "source": [
        "table_train=pd.DataFrame(tfidf_table)\n",
        "table_train.columns=['count_doc_1','count_doc_2','TF1','TF2','IDF','TFIDF1','TFIDF2']\n",
        "table_train.index=unique_words\n",
        "table_train.shape\n",
        "table_train.sort_values('IDF')"
      ]
    },
    {
      "cell_type": "code",
      "execution_count": null,
      "id": "7ff58c45",
      "metadata": {
        "id": "7ff58c45",
        "outputId": "f90c31b4-7a73-4057-c359-71b24be62b32"
      },
      "outputs": [
        {
          "data": {
            "text/html": [
              "<div>\n",
              "<style scoped>\n",
              "    .dataframe tbody tr th:only-of-type {\n",
              "        vertical-align: middle;\n",
              "    }\n",
              "\n",
              "    .dataframe tbody tr th {\n",
              "        vertical-align: top;\n",
              "    }\n",
              "\n",
              "    .dataframe thead th {\n",
              "        text-align: right;\n",
              "    }\n",
              "</style>\n",
              "<table border=\"1\" class=\"dataframe\">\n",
              "  <thead>\n",
              "    <tr style=\"text-align: right;\">\n",
              "      <th></th>\n",
              "      <th>count_doc</th>\n",
              "      <th>TF</th>\n",
              "      <th>TFIDF</th>\n",
              "    </tr>\n",
              "  </thead>\n",
              "  <tbody>\n",
              "    <tr>\n",
              "      <th>proprietary</th>\n",
              "      <td>1.0</td>\n",
              "      <td>0.047619</td>\n",
              "      <td>0.014335</td>\n",
              "    </tr>\n",
              "    <tr>\n",
              "      <th>dementia</th>\n",
              "      <td>0.0</td>\n",
              "      <td>0.000000</td>\n",
              "      <td>0.000000</td>\n",
              "    </tr>\n",
              "    <tr>\n",
              "      <th>can</th>\n",
              "      <td>0.0</td>\n",
              "      <td>0.000000</td>\n",
              "      <td>0.000000</td>\n",
              "    </tr>\n",
              "    <tr>\n",
              "      <th>group</th>\n",
              "      <td>0.0</td>\n",
              "      <td>0.000000</td>\n",
              "      <td>0.000000</td>\n",
              "    </tr>\n",
              "    <tr>\n",
              "      <th>and</th>\n",
              "      <td>2.0</td>\n",
              "      <td>0.095238</td>\n",
              "      <td>0.000000</td>\n",
              "    </tr>\n",
              "    <tr>\n",
              "      <th>...</th>\n",
              "      <td>...</td>\n",
              "      <td>...</td>\n",
              "      <td>...</td>\n",
              "    </tr>\n",
              "    <tr>\n",
              "      <th>first</th>\n",
              "      <td>0.0</td>\n",
              "      <td>0.000000</td>\n",
              "      <td>0.000000</td>\n",
              "    </tr>\n",
              "    <tr>\n",
              "      <th>from</th>\n",
              "      <td>0.0</td>\n",
              "      <td>0.000000</td>\n",
              "      <td>0.000000</td>\n",
              "    </tr>\n",
              "    <tr>\n",
              "      <th>bell</th>\n",
              "      <td>0.0</td>\n",
              "      <td>0.000000</td>\n",
              "      <td>0.000000</td>\n",
              "    </tr>\n",
              "    <tr>\n",
              "      <th>whose</th>\n",
              "      <td>0.0</td>\n",
              "      <td>0.000000</td>\n",
              "      <td>0.000000</td>\n",
              "    </tr>\n",
              "    <tr>\n",
              "      <th>microsoft</th>\n",
              "      <td>0.0</td>\n",
              "      <td>0.000000</td>\n",
              "      <td>0.000000</td>\n",
              "    </tr>\n",
              "  </tbody>\n",
              "</table>\n",
              "<p>98 rows × 3 columns</p>\n",
              "</div>"
            ],
            "text/plain": [
              "             count_doc        TF     TFIDF\n",
              "proprietary        1.0  0.047619  0.014335\n",
              "dementia           0.0  0.000000  0.000000\n",
              "can                0.0  0.000000  0.000000\n",
              "group              0.0  0.000000  0.000000\n",
              "and                2.0  0.095238  0.000000\n",
              "...                ...       ...       ...\n",
              "first              0.0  0.000000  0.000000\n",
              "from               0.0  0.000000  0.000000\n",
              "bell               0.0  0.000000  0.000000\n",
              "whose              0.0  0.000000  0.000000\n",
              "microsoft          0.0  0.000000  0.000000\n",
              "\n",
              "[98 rows x 3 columns]"
            ]
          },
          "execution_count": 17,
          "metadata": {},
          "output_type": "execute_result"
        }
      ],
      "source": [
        "doc_3=\"previously Mac OS X and later OS X is a proprietary gratinf phical operating system developed and marketed by Apple Inc\"\n",
        "# doc_3=\"android is an operating system\"\n",
        "# doc_3=\" humans and birds infected with virus c and  it is very dangrous disease\"\n",
        "doc_3=preprocessing(doc_3)\n",
        "tfidf_table=tfidf_test(doc_3,unique_words,np.array(table_train))\n",
        "table_test=pd.DataFrame(tfidf_table)\n",
        "table_test.columns=['count_doc','TF','TFIDF']\n",
        "table_test.index=unique_words\n",
        "table_test.shape\n",
        "table_test\n"
      ]
    },
    {
      "cell_type": "code",
      "execution_count": null,
      "id": "8720b2f8",
      "metadata": {
        "id": "8720b2f8",
        "outputId": "f48b7adb-e430-4db2-ace3-fccfef2d7530"
      },
      "outputs": [
        {
          "name": "stdout",
          "output_type": "stream",
          "text": [
            "98 98\n",
            "0.03358074258697058\n"
          ]
        }
      ],
      "source": [
        "from numpy.linalg import norm\n",
        "print(len(table_train['TFIDF1']),len(table_test['TFIDF']))\n",
        "dist = np.linalg.norm(table_train['TFIDF1'] - table_test['TFIDF'])\n",
        "print(dist)"
      ]
    },
    {
      "cell_type": "code",
      "execution_count": null,
      "id": "15fc3069",
      "metadata": {
        "id": "15fc3069",
        "outputId": "49ce4bf6-4a40-47d6-f322-02264abb55d2"
      },
      "outputs": [
        {
          "name": "stdout",
          "output_type": "stream",
          "text": [
            "98 98\n",
            "0.04858994804541821\n"
          ]
        }
      ],
      "source": [
        "print(len(table_train['TFIDF2']),len(table_test['TFIDF']))\n",
        "dist = np.linalg.norm(table_train['TFIDF2'] - table_test['TFIDF'])\n",
        "print(dist)"
      ]
    },
    {
      "cell_type": "code",
      "execution_count": null,
      "id": "12618521",
      "metadata": {
        "id": "12618521",
        "outputId": "3a667dd8-656e-43a6-eae0-7e873a3970d8"
      },
      "outputs": [
        {
          "name": "stdout",
          "output_type": "stream",
          "text": [
            "0.4870881870470525\n",
            "0.0\n"
          ]
        }
      ],
      "source": [
        "from scipy import spatial\n",
        "print(1 - spatial.distance.cosine(table_train['TFIDF1'], table_test['TFIDF']))\n",
        "print(1 - spatial.distance.cosine(table_train['TFIDF2'], table_test['TFIDF']))"
      ]
    },
    {
      "cell_type": "code",
      "execution_count": null,
      "id": "4d2a02d7",
      "metadata": {
        "id": "4d2a02d7"
      },
      "outputs": [],
      "source": []
    }
  ],
  "metadata": {
    "kernelspec": {
      "display_name": "Python 3",
      "language": "python",
      "name": "python3"
    },
    "language_info": {
      "codemirror_mode": {
        "name": "ipython",
        "version": 3
      },
      "file_extension": ".py",
      "mimetype": "text/x-python",
      "name": "python",
      "nbconvert_exporter": "python",
      "pygments_lexer": "ipython3",
      "version": "3.8.8"
    },
    "colab": {
      "provenance": [],
      "include_colab_link": true
    }
  },
  "nbformat": 4,
  "nbformat_minor": 5
}